{
 "cells": [
  {
   "cell_type": "code",
   "execution_count": 19,
   "metadata": {},
   "outputs": [
    {
     "data": {
      "text/latex": [
       "$\\displaystyle \\epsilon_{Z}$"
      ],
      "text/plain": [
       "epsilon_Z"
      ]
     },
     "execution_count": 19,
     "metadata": {},
     "output_type": "execute_result"
    }
   ],
   "source": [
    "from sympy import Matrix, diag\n",
    "from sympy import *\n",
    "from IPython.display import display\n",
    "\n",
    "# p_ze, p_ez, p_ehl, p_hle = symbols('Phi_ZE Phi_EZ Phi_EHL Phi_HLE')\n",
    "# e_z, e_e, e_hl = symbols('epsilon_Z epsilon_E epsilon_HL')\n",
    "# k1, k2 = symbols('k_1 k_2')\n",
    "\n",
    "p_ze, p_ez = symbols('Phi_ZE Phi_EZ')\n",
    "e_z, e_e = symbols('epsilon_Z epsilon_E')\n",
    "\n",
    "e_z"
   ]
  },
  {
   "cell_type": "code",
   "execution_count": 6,
   "metadata": {},
   "outputs": [],
   "source": [
    "eps_mat = diag(e_z, e_e)"
   ]
  },
  {
   "cell_type": "code",
   "execution_count": 10,
   "metadata": {},
   "outputs": [
    {
     "data": {
      "text/latex": [
       "$\\displaystyle \\left[\\begin{matrix}- \\Phi_{ZE} \\epsilon_{Z} & \\Phi_{EZ} \\epsilon_{E}\\\\\\Phi_{ZE} \\epsilon_{Z} & - \\Phi_{EZ} \\epsilon_{E}\\end{matrix}\\right]$"
      ],
      "text/plain": [
       "Matrix([\n",
       "[-Phi_ZE*epsilon_Z,  Phi_EZ*epsilon_E],\n",
       "[ Phi_ZE*epsilon_Z, -Phi_EZ*epsilon_E]])"
      ]
     },
     "execution_count": 10,
     "metadata": {},
     "output_type": "execute_result"
    }
   ],
   "source": [
    "K = Matrix([\n",
    "    [-p_ze, p_ez], \n",
    "    [p_ze, -p_ez]\n",
    "])\n",
    "K_full = K * eps_mat\n",
    "K_full\n"
   ]
  },
  {
   "cell_type": "code",
   "execution_count": 21,
   "metadata": {},
   "outputs": [
    {
     "data": {
      "text/latex": [
       "$\\displaystyle - \\Phi_{EZ} \\epsilon_{E} - \\Phi_{ZE} \\epsilon_{Z}$"
      ],
      "text/plain": [
       "-Phi_EZ*epsilon_E - Phi_ZE*epsilon_Z"
      ]
     },
     "metadata": {},
     "output_type": "display_data"
    },
    {
     "data": {
      "text/latex": [
       "$\\displaystyle 0$"
      ],
      "text/plain": [
       "0"
      ]
     },
     "metadata": {},
     "output_type": "display_data"
    },
    {
     "name": "stdout",
     "output_type": "stream",
     "text": [
      "{-Phi_EZ*epsilon_E - Phi_ZE*epsilon_Z: 1, 0: 1}\n"
     ]
    }
   ],
   "source": [
    "l = list(K_full.eigenvals().keys())\n",
    "for entry in l:\n",
    "    display(entry)\n",
    "print(K_full.eigenvals())"
   ]
  },
  {
   "cell_type": "code",
   "execution_count": 13,
   "metadata": {},
   "outputs": [],
   "source": [
    "def vdp(y, t, mu):\n",
    "    return [\n",
    "        y[1],\n",
    "        mu*(1-y[0]**2)*y[1] - y[0]\n",
    "    ]"
   ]
  },
  {
   "cell_type": "code",
   "execution_count": 40,
   "metadata": {},
   "outputs": [],
   "source": [
    "def diff_eq(c, t, QY, eps, Fk):\n",
    "    \n",
    "    \n",
    "# #     dot = eps[0] * c[0] + eps[1] * c[1]\n",
    "#     Fk = (1 - 10 ** (-dot))/dot\n",
    "    \n",
    "    return Fk * QY * diag(*eps) * diag(c)"
   ]
  },
  {
   "cell_type": "code",
   "execution_count": 13,
   "metadata": {},
   "outputs": [
    {
     "data": {
      "text/plain": [
       "[(-k_1, 1, [Matrix([\n",
       "   [1],\n",
       "   [0]])]), (-k_2, 1, [Matrix([\n",
       "   [0],\n",
       "   [1]])])]"
      ]
     },
     "execution_count": 13,
     "metadata": {},
     "output_type": "execute_result"
    }
   ],
   "source": [
    "K = Matrix([\n",
    "    [-k1, 0], \n",
    "    [0, -k2]\n",
    "])\n",
    "K.eigenvects()"
   ]
  },
  {
   "cell_type": "code",
   "execution_count": 46,
   "metadata": {},
   "outputs": [
    {
     "data": {
      "text/latex": [
       "$\\displaystyle \\left[\\begin{matrix}\\Phi_{EZ} c_{E} \\epsilon_{E} \\operatorname{F_{k}}{\\left(t \\right)} - \\Phi_{ZE} c_{Z} \\epsilon_{Z} \\operatorname{F_{k}}{\\left(t \\right)}\\\\- \\Phi_{EZ} c_{E} \\epsilon_{E} \\operatorname{F_{k}}{\\left(t \\right)} + \\Phi_{ZE} c_{Z} \\epsilon_{Z} \\operatorname{F_{k}}{\\left(t \\right)}\\end{matrix}\\right]$"
      ],
      "text/plain": [
       "Matrix([\n",
       "[ Phi_EZ*c_E*epsilon_E*F_k(t) - Phi_ZE*c_Z*epsilon_Z*F_k(t)],\n",
       "[-Phi_EZ*c_E*epsilon_E*F_k(t) + Phi_ZE*c_Z*epsilon_Z*F_k(t)]])"
      ]
     },
     "execution_count": 46,
     "metadata": {},
     "output_type": "execute_result"
    }
   ],
   "source": [
    "QY = Matrix([\n",
    "    [-p_ze, p_ez], \n",
    "    [p_ze, -p_ez]\n",
    "])\n",
    "\n",
    "eps = e_z, e_e = symbols('epsilon_Z epsilon_E')\n",
    "c = c_z, c_e = symbols('c_Z c_E')\n",
    "t = symbols('t')\n",
    "fk = Function('F_k')(t)\n",
    "\n",
    "# QY * diag(*eps) * diag(c)\n",
    "\n",
    "fk\n",
    "\n",
    "M = diff_eq(c, t, QY, eps, fk)\n",
    "\n",
    "\n",
    "M"
   ]
  },
  {
   "cell_type": "code",
   "execution_count": 47,
   "metadata": {},
   "outputs": [
    {
     "data": {
      "text/latex": [
       "$\\displaystyle \\left[\\begin{matrix}- \\Phi_{ZE} \\epsilon_{Z} \\operatorname{F_{k}}{\\left(t \\right)} & \\Phi_{EZ} \\epsilon_{E} \\operatorname{F_{k}}{\\left(t \\right)}\\\\\\Phi_{ZE} \\epsilon_{Z} \\operatorname{F_{k}}{\\left(t \\right)} & - \\Phi_{EZ} \\epsilon_{E} \\operatorname{F_{k}}{\\left(t \\right)}\\end{matrix}\\right]$"
      ],
      "text/plain": [
       "Matrix([\n",
       "[-Phi_ZE*epsilon_Z*F_k(t),  Phi_EZ*epsilon_E*F_k(t)],\n",
       "[ Phi_ZE*epsilon_Z*F_k(t), -Phi_EZ*epsilon_E*F_k(t)]])"
      ]
     },
     "execution_count": 47,
     "metadata": {},
     "output_type": "execute_result"
    }
   ],
   "source": [
    "J = M.jacobian(c)\n",
    "\n",
    "J\n",
    "\n",
    "# g = gcd(tuple(M))\n",
    "# g\n",
    "\n",
    "# A_v2 = MatMul(g,(M/g),evaluate = False)\n",
    "# A_v2\n",
    "# print(A_v2)\n",
    "\n",
    "# factor(J)"
   ]
  },
  {
   "cell_type": "code",
   "execution_count": 10,
   "metadata": {},
   "outputs": [
    {
     "data": {
      "text/latex": [
       "$\\displaystyle \\left[\\begin{matrix}0 & 1\\\\- 2 \\mu y_{0} y_{1} - 1 & \\mu \\left(1 - y_{0}^{2}\\right)\\end{matrix}\\right]$"
      ],
      "text/plain": [
       "Matrix([\n",
       "[              0,              1],\n",
       "[-2*mu*y0*y1 - 1, mu*(1 - y0**2)]])"
      ]
     },
     "execution_count": 10,
     "metadata": {},
     "output_type": "execute_result"
    }
   ],
   "source": [
    "y = y0, y1 = symbols('y0 y1')\n",
    "mu, t = symbols('mu t')\n",
    "J = Matrix(vdp(y, None, mu)).jacobian(y)\n",
    "# J_func = lambdify((y, t, mu), J)\n",
    "J"
   ]
  },
  {
   "cell_type": "code",
   "execution_count": 2,
   "metadata": {},
   "outputs": [
    {
     "data": {
      "text/latex": [
       "$\\displaystyle \\left[\\begin{matrix}- \\Phi_{ZE} \\epsilon_{Z} & \\Phi_{EZ} \\epsilon_{E} & 0\\\\\\Phi_{ZE} \\epsilon_{Z} & \\epsilon_{E} \\left(- \\Phi_{EHL} - \\Phi_{EZ}\\right) & \\Phi_{HLE} \\epsilon_{HL}\\\\0 & \\Phi_{EHL} \\epsilon_{E} & - \\Phi_{HLE} \\epsilon_{HL}\\end{matrix}\\right]$"
      ],
      "text/plain": [
       "Matrix([\n",
       "[-Phi_ZE*epsilon_Z,              Phi_EZ*epsilon_E,                   0],\n",
       "[ Phi_ZE*epsilon_Z, epsilon_E*(-Phi_EHL - Phi_EZ),  Phi_HLE*epsilon_HL],\n",
       "[                0,             Phi_EHL*epsilon_E, -Phi_HLE*epsilon_HL]])"
      ]
     },
     "execution_count": 2,
     "metadata": {},
     "output_type": "execute_result"
    }
   ],
   "source": [
    "A = [[-p_ze, p_ez, 0], [p_ze, -p_ez -p_ehl, p_hle], [0, p_ehl, -p_hle]]\n",
    "A = Matrix(A)\n",
    "\n",
    "E = diag(e_z, e_e, e_hl)\n",
    "\n",
    "_A = A*E\n",
    "_A"
   ]
  },
  {
   "cell_type": "code",
   "execution_count": 3,
   "metadata": {},
   "outputs": [
    {
     "data": {
      "text/latex": [
       "$\\displaystyle \\left[\\begin{matrix}\\frac{\\Phi_{EZ} \\Phi_{HLE} \\epsilon_{E} \\epsilon_{HL}}{- \\Phi_{EZ} \\Phi_{ZE} \\epsilon_{E} \\epsilon_{Z} - \\Phi_{ZE} \\epsilon_{E} \\epsilon_{Z} \\left(- \\Phi_{EHL} - \\Phi_{EZ}\\right)}\\\\\\frac{\\Phi_{HLE} \\Phi_{ZE} \\epsilon_{HL} \\epsilon_{Z}}{- \\Phi_{EZ} \\Phi_{ZE} \\epsilon_{E} \\epsilon_{Z} - \\Phi_{ZE} \\epsilon_{E} \\epsilon_{Z} \\left(- \\Phi_{EHL} - \\Phi_{EZ}\\right)}\\\\1\\end{matrix}\\right]$"
      ],
      "text/plain": [
       "Matrix([\n",
       "[Phi_EZ*Phi_HLE*epsilon_E*epsilon_HL/(-Phi_EZ*Phi_ZE*epsilon_E*epsilon_Z - Phi_ZE*epsilon_E*epsilon_Z*(-Phi_EHL - Phi_EZ))],\n",
       "[Phi_HLE*Phi_ZE*epsilon_HL*epsilon_Z/(-Phi_EZ*Phi_ZE*epsilon_E*epsilon_Z - Phi_ZE*epsilon_E*epsilon_Z*(-Phi_EHL - Phi_EZ))],\n",
       "[                                                                                                                        1]])"
      ]
     },
     "execution_count": 3,
     "metadata": {},
     "output_type": "execute_result"
    }
   ],
   "source": [
    "An = _A.nullspace()\n",
    "An[0]\n"
   ]
  }
 ],
 "metadata": {
  "kernelspec": {
   "display_name": "Python 3 (ipykernel)",
   "language": "python",
   "name": "python3"
  },
  "language_info": {
   "codemirror_mode": {
    "name": "ipython",
    "version": 3
   },
   "file_extension": ".py",
   "mimetype": "text/x-python",
   "name": "python",
   "nbconvert_exporter": "python",
   "pygments_lexer": "ipython3",
   "version": "3.9.6"
  }
 },
 "nbformat": 4,
 "nbformat_minor": 4
}
