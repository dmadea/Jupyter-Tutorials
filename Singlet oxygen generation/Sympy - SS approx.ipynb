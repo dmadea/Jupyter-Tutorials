{
 "cells": [
  {
   "cell_type": "code",
   "execution_count": 1,
   "id": "dirty-course",
   "metadata": {},
   "outputs": [],
   "source": [
    "from sympy import symbols\n",
    "from IPython.display import display, Math\n",
    "from kin_model import PhotoKineticSymbolicModel"
   ]
  },
  {
   "cell_type": "code",
   "execution_count": 2,
   "id": "final-romantic",
   "metadata": {},
   "outputs": [
    {
     "data": {
      "text/latex": [
       "$\\displaystyle \\begin{align}\\mathrm{BR} &\\xrightarrow{h\\nu} \\mathrm{^1BR} \\\\\\mathrm{^1BR} &\\xrightarrow{k_S} \\mathrm{BR} \\\\\\mathrm{^1BR} &\\xrightarrow{k_{isc}} \\mathrm{^3BR} \\\\\\mathrm{^3BR} &\\xrightarrow{k_T} \\mathrm{BR} \\\\\\mathrm{^3BR} + \\mathrm{^3O_2} &\\xrightarrow{k_{TT}} \\mathrm{^1O_2} + \\mathrm{BR} \\\\\\mathrm{^1O_2} &\\xrightarrow{k_d} \\mathrm{^3O_2} \\\\\\mathrm{^1O_2} + \\mathrm{BR} &\\xrightarrow{k_q} \\mathrm{BR} + \\mathrm{^3O_2} \\\\\\mathrm{BR} + \\mathrm{^1O_2} &\\xrightarrow{k_r}  \\\\\\end{align}$"
      ],
      "text/plain": [
       "<IPython.core.display.Math object>"
      ]
     },
     "metadata": {},
     "output_type": "display_data"
    },
    {
     "name": "stdout",
     "output_type": "stream",
     "text": [
      "\n",
      "\n"
     ]
    },
    {
     "data": {
      "text/latex": [
       "$\\displaystyle \\frac{d}{d t} \\operatorname{c_{BR}}{\\left(t \\right)} = - J + k_{S} \\operatorname{c_{^1BR}}{\\left(t \\right)} + k_{T} \\operatorname{c_{^3BR}}{\\left(t \\right)} - k_{r} \\operatorname{c_{BR}}{\\left(t \\right)} \\operatorname{c_{^1O_2}}{\\left(t \\right)} + k_{TT} \\operatorname{c_{^3BR}}{\\left(t \\right)} \\operatorname{c_{^3O_2}}{\\left(t \\right)}$"
      ],
      "text/plain": [
       "Eq(Derivative(c_{BR}(t), t), -J + k_S*c_{^1BR}(t) + k_T*c_{^3BR}(t) - k_r*c_{BR}(t)*c_{^1O_2}(t) + k_{TT}*c_{^3BR}(t)*c_{^3O_2}(t))"
      ]
     },
     "metadata": {},
     "output_type": "display_data"
    },
    {
     "data": {
      "text/latex": [
       "$\\displaystyle \\frac{d}{d t} \\operatorname{c_{^1BR}}{\\left(t \\right)} = J - k_{S} \\operatorname{c_{^1BR}}{\\left(t \\right)} - k_{isc} \\operatorname{c_{^1BR}}{\\left(t \\right)}$"
      ],
      "text/plain": [
       "Eq(Derivative(c_{^1BR}(t), t), J - k_S*c_{^1BR}(t) - k_{isc}*c_{^1BR}(t))"
      ]
     },
     "metadata": {},
     "output_type": "display_data"
    },
    {
     "data": {
      "text/latex": [
       "$\\displaystyle \\frac{d}{d t} \\operatorname{c_{^3BR}}{\\left(t \\right)} = - k_{T} \\operatorname{c_{^3BR}}{\\left(t \\right)} - k_{TT} \\operatorname{c_{^3BR}}{\\left(t \\right)} \\operatorname{c_{^3O_2}}{\\left(t \\right)} + k_{isc} \\operatorname{c_{^1BR}}{\\left(t \\right)}$"
      ],
      "text/plain": [
       "Eq(Derivative(c_{^3BR}(t), t), -k_T*c_{^3BR}(t) - k_{TT}*c_{^3BR}(t)*c_{^3O_2}(t) + k_{isc}*c_{^1BR}(t))"
      ]
     },
     "metadata": {},
     "output_type": "display_data"
    },
    {
     "data": {
      "text/latex": [
       "$\\displaystyle \\frac{d}{d t} \\operatorname{c_{^3O_2}}{\\left(t \\right)} = k_{d} \\operatorname{c_{^1O_2}}{\\left(t \\right)} + k_{q} \\operatorname{c_{BR}}{\\left(t \\right)} \\operatorname{c_{^1O_2}}{\\left(t \\right)} - k_{TT} \\operatorname{c_{^3BR}}{\\left(t \\right)} \\operatorname{c_{^3O_2}}{\\left(t \\right)}$"
      ],
      "text/plain": [
       "Eq(Derivative(c_{^3O_2}(t), t), k_d*c_{^1O_2}(t) + k_q*c_{BR}(t)*c_{^1O_2}(t) - k_{TT}*c_{^3BR}(t)*c_{^3O_2}(t))"
      ]
     },
     "metadata": {},
     "output_type": "display_data"
    },
    {
     "data": {
      "text/latex": [
       "$\\displaystyle \\frac{d}{d t} \\operatorname{c_{^1O_2}}{\\left(t \\right)} = - k_{d} \\operatorname{c_{^1O_2}}{\\left(t \\right)} - k_{q} \\operatorname{c_{BR}}{\\left(t \\right)} \\operatorname{c_{^1O_2}}{\\left(t \\right)} - k_{r} \\operatorname{c_{BR}}{\\left(t \\right)} \\operatorname{c_{^1O_2}}{\\left(t \\right)} + k_{TT} \\operatorname{c_{^3BR}}{\\left(t \\right)} \\operatorname{c_{^3O_2}}{\\left(t \\right)}$"
      ],
      "text/plain": [
       "Eq(Derivative(c_{^1O_2}(t), t), -k_d*c_{^1O_2}(t) - k_q*c_{BR}(t)*c_{^1O_2}(t) - k_r*c_{BR}(t)*c_{^1O_2}(t) + k_{TT}*c_{^3BR}(t)*c_{^3O_2}(t))"
      ]
     },
     "metadata": {},
     "output_type": "display_data"
    },
    {
     "name": "stdout",
     "output_type": "stream",
     "text": [
      "\n",
      "\n"
     ]
    },
    {
     "data": {
      "text/latex": [
       "$\\displaystyle \\frac{d}{d t} \\operatorname{c_{BR}}{\\left(t \\right)} = - \\frac{J \\phi_{isc} k_{r} k_{TT} \\operatorname{c_{BR}}{\\left(t \\right)} \\operatorname{c_{^3O_2}}{\\left(t \\right)}}{\\left(k_{T} + k_{TT} \\operatorname{c_{^3O_2}}{\\left(t \\right)}\\right) \\left(k_{d} + k_{q} \\operatorname{c_{BR}}{\\left(t \\right)} + k_{r} \\operatorname{c_{BR}}{\\left(t \\right)}\\right)}$"
      ],
      "text/plain": [
       "Eq(Derivative(c_{BR}(t), t), -J*\\phi_{isc}*k_r*k_{TT}*c_{BR}(t)*c_{^3O_2}(t)/((k_T + k_{TT}*c_{^3O_2}(t))*(k_d + k_q*c_{BR}(t) + k_r*c_{BR}(t))))"
      ]
     },
     "metadata": {},
     "output_type": "display_data"
    },
    {
     "data": {
      "text/latex": [
       "$\\displaystyle \\operatorname{c_{^1BR}}{\\left(t \\right)} = \\frac{J}{k_{S} + k_{isc}}$"
      ],
      "text/plain": [
       "Eq(c_{^1BR}(t), J/(k_S + k_{isc}))"
      ]
     },
     "metadata": {},
     "output_type": "display_data"
    },
    {
     "data": {
      "text/latex": [
       "$\\displaystyle \\operatorname{c_{^3BR}}{\\left(t \\right)} = \\frac{J \\phi_{isc}}{k_{T} + k_{TT} \\operatorname{c_{^3O_2}}{\\left(t \\right)}}$"
      ],
      "text/plain": [
       "Eq(c_{^3BR}(t), J*\\phi_{isc}/(k_T + k_{TT}*c_{^3O_2}(t)))"
      ]
     },
     "metadata": {},
     "output_type": "display_data"
    },
    {
     "data": {
      "text/latex": [
       "$\\displaystyle \\frac{d}{d t} \\operatorname{c_{^3O_2}}{\\left(t \\right)} = - \\frac{J \\phi_{isc} k_{r} k_{TT} \\operatorname{c_{BR}}{\\left(t \\right)} \\operatorname{c_{^3O_2}}{\\left(t \\right)}}{\\left(k_{T} + k_{TT} \\operatorname{c_{^3O_2}}{\\left(t \\right)}\\right) \\left(k_{d} + k_{q} \\operatorname{c_{BR}}{\\left(t \\right)} + k_{r} \\operatorname{c_{BR}}{\\left(t \\right)}\\right)}$"
      ],
      "text/plain": [
       "Eq(Derivative(c_{^3O_2}(t), t), -J*\\phi_{isc}*k_r*k_{TT}*c_{BR}(t)*c_{^3O_2}(t)/((k_T + k_{TT}*c_{^3O_2}(t))*(k_d + k_q*c_{BR}(t) + k_r*c_{BR}(t))))"
      ]
     },
     "metadata": {},
     "output_type": "display_data"
    },
    {
     "data": {
      "text/latex": [
       "$\\displaystyle \\operatorname{c_{^1O_2}}{\\left(t \\right)} = \\frac{J \\phi_{isc} k_{TT} \\operatorname{c_{^3O_2}}{\\left(t \\right)}}{\\left(k_{T} + k_{TT} \\operatorname{c_{^3O_2}}{\\left(t \\right)}\\right) \\left(k_{d} + k_{q} \\operatorname{c_{BR}}{\\left(t \\right)} + k_{r} \\operatorname{c_{BR}}{\\left(t \\right)}\\right)}$"
      ],
      "text/plain": [
       "Eq(c_{^1O_2}(t), J*\\phi_{isc}*k_{TT}*c_{^3O_2}(t)/((k_T + k_{TT}*c_{^3O_2}(t))*(k_d + k_q*c_{BR}(t) + k_r*c_{BR}(t))))"
      ]
     },
     "metadata": {},
     "output_type": "display_data"
    }
   ],
   "source": [
    "str_model = \"\"\"\n",
    "BR -hv-> ^1BR --> BR          // k_S  # population of singlet state and decay to GS with rate k_S\n",
    "^1BR --> ^3BR --> BR          // k_{isc} ; k_T\n",
    "^3BR + ^3O_2 --> ^1O_2 + BR   // k_{TT}\n",
    "^1O_2 --> ^3O_2               // k_d\n",
    "^1O_2 + BR --> BR + ^3O_2     // k_q\n",
    "BR + ^1O_2 -->                // k_r\n",
    "\"\"\"\n",
    "\n",
    "model = PhotoKineticSymbolicModel.from_text(str_model)\n",
    "model.pprint_model()\n",
    "print('\\n')\n",
    "model.pprint_equations()\n",
    "print('\\n')\n",
    "\n",
    "# substitute for isc quantum yield\n",
    "k_S, k_isc, *_ = model.symbols['rate_constants']\n",
    "phi_isc = symbols('\\phi_{isc}')\n",
    "subs = [(k_isc / (k_isc + k_S), phi_isc)]\n",
    "\n",
    "model.steady_state_approx(['^1BR', '^3BR', '^1O_2'], subs)  # set the species for SS approximation"
   ]
  },
  {
   "cell_type": "code",
   "execution_count": 21,
   "id": "clean-population",
   "metadata": {},
   "outputs": [],
   "source": [
    "t, J = symbols('t J')   # J = 1/V * q0 * (1 - 10 ** (-l*eps*c_GS))\n",
    "\n",
    "c_GS = Function('c_{BR}')(t)  # ground state\n",
    "c_S = Function('c_{^1BR}')(t)  # singlet\n",
    "c_T = Function('c_{^3BR}')(t)  # triplet\n",
    "c_1O = Function('c_{^1O_2}')(t)  # singlet oxygen\n",
    "c_3O = Function('c_{^3O_2}')(t)  # triplet oxygen\n",
    "\n",
    "k_ST, k_SGS, k_TGS, k_TT = symbols('k_isc k_SGS k_TGS k_TT')\n",
    "k_1O3O, k_r, k_q = symbols('k_1O3O k_r k_q')\n",
    "\n",
    "q0, V, l, eps = symbols('q0 V l epsilon')\n"
   ]
  },
  {
   "cell_type": "code",
   "execution_count": 22,
   "id": "dominican-aspect",
   "metadata": {},
   "outputs": [
    {
     "data": {
      "text/latex": [
       "$\\displaystyle \\frac{d}{d t} \\operatorname{c_{BR}}{\\left(t \\right)} = - J + k_{SGS} \\operatorname{c_{^1BR}}{\\left(t \\right)} + k_{TGS} \\operatorname{c_{^3BR}}{\\left(t \\right)} + k_{TT} \\operatorname{c_{^3BR}}{\\left(t \\right)} \\operatorname{c_{^3O_2}}{\\left(t \\right)} - k_{r} \\operatorname{c_{BR}}{\\left(t \\right)} \\operatorname{c_{^1O_2}}{\\left(t \\right)}$"
      ],
      "text/plain": [
       "Eq(Derivative(c_{BR}(t), t), -J + k_SGS*c_{^1BR}(t) + k_TGS*c_{^3BR}(t) + k_TT*c_{^3BR}(t)*c_{^3O_2}(t) - k_r*c_{BR}(t)*c_{^1O_2}(t))"
      ]
     },
     "metadata": {},
     "output_type": "display_data"
    },
    {
     "data": {
      "text/latex": [
       "$\\displaystyle \\frac{d}{d t} \\operatorname{c_{^1BR}}{\\left(t \\right)} = J - k_{SGS} \\operatorname{c_{^1BR}}{\\left(t \\right)} - k_{isc} \\operatorname{c_{^1BR}}{\\left(t \\right)}$"
      ],
      "text/plain": [
       "Eq(Derivative(c_{^1BR}(t), t), J - k_SGS*c_{^1BR}(t) - k_isc*c_{^1BR}(t))"
      ]
     },
     "metadata": {},
     "output_type": "display_data"
    },
    {
     "data": {
      "text/latex": [
       "$\\displaystyle \\frac{d}{d t} \\operatorname{c_{^3BR}}{\\left(t \\right)} = - k_{TGS} \\operatorname{c_{^3BR}}{\\left(t \\right)} - k_{TT} \\operatorname{c_{^3BR}}{\\left(t \\right)} \\operatorname{c_{^3O_2}}{\\left(t \\right)} + k_{isc} \\operatorname{c_{^1BR}}{\\left(t \\right)}$"
      ],
      "text/plain": [
       "Eq(Derivative(c_{^3BR}(t), t), -k_TGS*c_{^3BR}(t) - k_TT*c_{^3BR}(t)*c_{^3O_2}(t) + k_isc*c_{^1BR}(t))"
      ]
     },
     "metadata": {},
     "output_type": "display_data"
    },
    {
     "data": {
      "text/latex": [
       "$\\displaystyle \\frac{d}{d t} \\operatorname{c_{^1O_2}}{\\left(t \\right)} = - k_{1O3O} \\operatorname{c_{^1O_2}}{\\left(t \\right)} + k_{TT} \\operatorname{c_{^3BR}}{\\left(t \\right)} \\operatorname{c_{^3O_2}}{\\left(t \\right)} - k_{r} \\operatorname{c_{BR}}{\\left(t \\right)} \\operatorname{c_{^1O_2}}{\\left(t \\right)}$"
      ],
      "text/plain": [
       "Eq(Derivative(c_{^1O_2}(t), t), -k_1O3O*c_{^1O_2}(t) + k_TT*c_{^3BR}(t)*c_{^3O_2}(t) - k_r*c_{BR}(t)*c_{^1O_2}(t))"
      ]
     },
     "metadata": {},
     "output_type": "display_data"
    }
   ],
   "source": [
    "# differential equations\n",
    "eq0 = Eq(c_GS.diff(t), -J + k_SGS*c_S + k_TGS*c_T - k_r * c_GS*c_1O + k_TT * c_3O*c_T)\n",
    "eq1 = Eq(c_S.diff(t), +J -k_ST*c_S - k_SGS*c_S )\n",
    "eq2 = Eq(c_T.diff(t), +k_ST*c_S -k_TGS*c_T - k_TT * c_3O*c_T)\n",
    "eq3 = Eq(c_1O.diff(t), +k_TT * c_3O*c_T -k_1O3O*c_1O - k_r * c_GS*c_1O)\n",
    "\n",
    "display(eq0)\n",
    "display(eq1)\n",
    "display(eq2)\n",
    "display(eq3)"
   ]
  },
  {
   "cell_type": "code",
   "execution_count": 23,
   "id": "exterior-botswana",
   "metadata": {},
   "outputs": [
    {
     "data": {
      "text/latex": [
       "$\\displaystyle \\frac{d}{d t} \\operatorname{c_{BR}}{\\left(t \\right)} = - \\frac{J \\phi_{isc} k_{TT} k_{r} \\operatorname{c_{BR}}{\\left(t \\right)} \\operatorname{c_{^3O_2}}{\\left(t \\right)}}{\\left(k_{1O3O} + k_{r} \\operatorname{c_{BR}}{\\left(t \\right)}\\right) \\left(k_{TGS} + k_{TT} \\operatorname{c_{^3O_2}}{\\left(t \\right)}\\right)}$"
      ],
      "text/plain": [
       "Eq(Derivative(c_{BR}(t), t), -J*\\phi_{isc}*k_TT*k_r*c_{BR}(t)*c_{^3O_2}(t)/((k_1O3O + k_r*c_{BR}(t))*(k_TGS + k_TT*c_{^3O_2}(t))))"
      ]
     },
     "metadata": {},
     "output_type": "display_data"
    },
    {
     "data": {
      "text/latex": [
       "$\\displaystyle \\operatorname{c_{^1BR}}{\\left(t \\right)} = \\frac{J}{k_{SGS} + k_{isc}}$"
      ],
      "text/plain": [
       "Eq(c_{^1BR}(t), J/(k_SGS + k_isc))"
      ]
     },
     "metadata": {},
     "output_type": "display_data"
    },
    {
     "data": {
      "text/latex": [
       "$\\displaystyle \\operatorname{c_{^3BR}}{\\left(t \\right)} = \\frac{J \\phi_{isc}}{k_{TGS} + k_{TT} \\operatorname{c_{^3O_2}}{\\left(t \\right)}}$"
      ],
      "text/plain": [
       "Eq(c_{^3BR}(t), J*\\phi_{isc}/(k_TGS + k_TT*c_{^3O_2}(t)))"
      ]
     },
     "metadata": {},
     "output_type": "display_data"
    },
    {
     "data": {
      "text/latex": [
       "$\\displaystyle \\operatorname{c_{^1O_2}}{\\left(t \\right)} = \\frac{J \\phi_{isc} k_{TT} \\operatorname{c_{^3O_2}}{\\left(t \\right)}}{\\left(k_{1O3O} + k_{r} \\operatorname{c_{BR}}{\\left(t \\right)}\\right) \\left(k_{TGS} + k_{TT} \\operatorname{c_{^3O_2}}{\\left(t \\right)}\\right)}$"
      ],
      "text/plain": [
       "Eq(c_{^1O_2}(t), J*\\phi_{isc}*k_TT*c_{^3O_2}(t)/((k_1O3O + k_r*c_{BR}(t))*(k_TGS + k_TT*c_{^3O_2}(t))))"
      ]
     },
     "metadata": {},
     "output_type": "display_data"
    }
   ],
   "source": [
    "# solve the system of equations, make steady state approximation for singlet, triplet and singlet oxygen concentrations\n",
    "solution = solve([eq0, Eq(eq1.rhs, 0), Eq(eq2.rhs, 0), Eq(eq3.rhs, 0)], [c_GS.diff(t), c_S, c_T, c_1O])\n",
    "\n",
    "for key, value in solution.items():\n",
    "    eq = Eq(key, value)\n",
    "    display(factor(simplify(eq)).subs(k_ST / (k_ST + k_SGS), phi_isc))"
   ]
  },
  {
   "cell_type": "markdown",
   "id": "driven-helping",
   "metadata": {},
   "source": []
  }
 ],
 "metadata": {
  "kernelspec": {
   "display_name": "Python 3 (ipykernel)",
   "language": "python",
   "name": "python3"
  },
  "language_info": {
   "codemirror_mode": {
    "name": "ipython",
    "version": 3
   },
   "file_extension": ".py",
   "mimetype": "text/x-python",
   "name": "python",
   "nbconvert_exporter": "python",
   "pygments_lexer": "ipython3",
   "version": "3.9.7"
  }
 },
 "nbformat": 4,
 "nbformat_minor": 5
}
