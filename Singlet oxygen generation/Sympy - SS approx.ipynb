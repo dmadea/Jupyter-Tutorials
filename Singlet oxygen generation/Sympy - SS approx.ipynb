{
 "cells": [
  {
   "cell_type": "code",
   "execution_count": 1,
   "id": "tight-complexity",
   "metadata": {},
   "outputs": [],
   "source": [
    "from sympy import *\n",
    "from IPython.display import display"
   ]
  },
  {
   "cell_type": "code",
   "execution_count": 3,
   "id": "cleared-michigan",
   "metadata": {},
   "outputs": [],
   "source": [
    "t, J = symbols('t J')   # J = 1/V * q0 * (1 - 10 ** (-l*eps*c_GS))\n",
    "\n",
    "c_GS = Function('c_GS')(t)  # ground state\n",
    "c_S = Function('c_S')(t)  # singlet\n",
    "c_T = Function('c_T')(t)  # triplet\n",
    "c_1O = Function('c_1O')(t)  # singlet oxygen\n",
    "c_3O = Function('c_3O')(t)  # triplet oxygen\n",
    "\n",
    "k_ST, k_SGS, k_TGS, k_TT = symbols('k_ST k_SGS k_TGS k_TT')\n",
    "k_1O3O, k_r, k_q = symbols('k_1O3O k_r k_q')\n",
    "\n",
    "q0, V, l, eps = symbols('q0 V l epsilon')"
   ]
  },
  {
   "cell_type": "code",
   "execution_count": 6,
   "id": "revolutionary-azerbaijan",
   "metadata": {},
   "outputs": [
    {
     "data": {
      "text/latex": [
       "$\\displaystyle \\frac{d}{d t} \\operatorname{c_{GS}}{\\left(t \\right)} = - J + k_{SGS} \\operatorname{c_{S}}{\\left(t \\right)} + k_{TGS} \\operatorname{c_{T}}{\\left(t \\right)} - k_{r} \\operatorname{c_{1O}}{\\left(t \\right)} \\operatorname{c_{GS}}{\\left(t \\right)}$"
      ],
      "text/plain": [
       "Eq(Derivative(c_GS(t), t), -J + k_SGS*c_S(t) + k_TGS*c_T(t) - k_r*c_1O(t)*c_GS(t))"
      ]
     },
     "metadata": {},
     "output_type": "display_data"
    },
    {
     "data": {
      "text/latex": [
       "$\\displaystyle \\frac{d}{d t} \\operatorname{c_{S}}{\\left(t \\right)} = J - k_{SGS} \\operatorname{c_{S}}{\\left(t \\right)} - k_{ST} \\operatorname{c_{S}}{\\left(t \\right)} + k_{TT} \\operatorname{c_{3O}}{\\left(t \\right)} \\operatorname{c_{T}}{\\left(t \\right)}$"
      ],
      "text/plain": [
       "Eq(Derivative(c_S(t), t), J - k_SGS*c_S(t) - k_ST*c_S(t) + k_TT*c_3O(t)*c_T(t))"
      ]
     },
     "metadata": {},
     "output_type": "display_data"
    },
    {
     "data": {
      "text/latex": [
       "$\\displaystyle \\frac{d}{d t} \\operatorname{c_{T}}{\\left(t \\right)} = k_{ST} \\operatorname{c_{S}}{\\left(t \\right)} - k_{TGS} \\operatorname{c_{T}}{\\left(t \\right)} - k_{TT} \\operatorname{c_{3O}}{\\left(t \\right)} \\operatorname{c_{T}}{\\left(t \\right)}$"
      ],
      "text/plain": [
       "Eq(Derivative(c_T(t), t), k_ST*c_S(t) - k_TGS*c_T(t) - k_TT*c_3O(t)*c_T(t))"
      ]
     },
     "metadata": {},
     "output_type": "display_data"
    },
    {
     "data": {
      "text/latex": [
       "$\\displaystyle \\frac{d}{d t} \\operatorname{c_{1O}}{\\left(t \\right)} = - k_{1O3O} \\operatorname{c_{1O}}{\\left(t \\right)} + k_{TT} \\operatorname{c_{3O}}{\\left(t \\right)} \\operatorname{c_{T}}{\\left(t \\right)} - k_{r} \\operatorname{c_{1O}}{\\left(t \\right)} \\operatorname{c_{GS}}{\\left(t \\right)}$"
      ],
      "text/plain": [
       "Eq(Derivative(c_1O(t), t), -k_1O3O*c_1O(t) + k_TT*c_3O(t)*c_T(t) - k_r*c_1O(t)*c_GS(t))"
      ]
     },
     "metadata": {},
     "output_type": "display_data"
    }
   ],
   "source": [
    "# differential equations\n",
    "eq0 = Eq(c_GS.diff(t), -J + k_SGS*c_S + k_TGS*c_T - k_r * c_GS*c_1O)\n",
    "eq1 = Eq(c_S.diff(t), +J -k_ST*c_S - k_SGS*c_S + k_TT * c_3O*c_T)\n",
    "eq2 = Eq(c_T.diff(t), +k_ST*c_S -k_TGS*c_T - k_TT * c_3O*c_T)\n",
    "eq3 = Eq(c_1O.diff(t), +k_TT * c_3O*c_T -k_1O3O*c_1O - k_r * c_GS*c_1O)\n",
    "\n",
    "display(eq0)\n",
    "display(eq1)\n",
    "display(eq2)\n",
    "display(eq3)"
   ]
  },
  {
   "cell_type": "code",
   "execution_count": 7,
   "id": "handed-monitor",
   "metadata": {},
   "outputs": [
    {
     "data": {
      "text/latex": [
       "$\\displaystyle \\frac{d}{d t} \\operatorname{c_{GS}}{\\left(t \\right)} = - \\frac{J k_{ST} k_{TT} k_{r} \\operatorname{c_{3O}}{\\left(t \\right)} \\operatorname{c_{GS}}{\\left(t \\right)}}{\\left(k_{1O3O} + k_{r} \\operatorname{c_{GS}}{\\left(t \\right)}\\right) \\left(k_{SGS} k_{TGS} + k_{SGS} k_{TT} \\operatorname{c_{3O}}{\\left(t \\right)} + k_{ST} k_{TGS}\\right)}$"
      ],
      "text/plain": [
       "Eq(Derivative(c_GS(t), t), -J*k_ST*k_TT*k_r*c_3O(t)*c_GS(t)/((k_1O3O + k_r*c_GS(t))*(k_SGS*k_TGS + k_SGS*k_TT*c_3O(t) + k_ST*k_TGS)))"
      ]
     },
     "metadata": {},
     "output_type": "display_data"
    },
    {
     "data": {
      "text/latex": [
       "$\\displaystyle \\operatorname{c_{S}}{\\left(t \\right)} = \\frac{J \\left(k_{TGS} + k_{TT} \\operatorname{c_{3O}}{\\left(t \\right)}\\right)}{k_{SGS} k_{TGS} + k_{SGS} k_{TT} \\operatorname{c_{3O}}{\\left(t \\right)} + k_{ST} k_{TGS}}$"
      ],
      "text/plain": [
       "Eq(c_S(t), J*(k_TGS + k_TT*c_3O(t))/(k_SGS*k_TGS + k_SGS*k_TT*c_3O(t) + k_ST*k_TGS))"
      ]
     },
     "metadata": {},
     "output_type": "display_data"
    },
    {
     "data": {
      "text/latex": [
       "$\\displaystyle \\operatorname{c_{T}}{\\left(t \\right)} = \\frac{J k_{ST}}{k_{SGS} k_{TGS} + k_{SGS} k_{TT} \\operatorname{c_{3O}}{\\left(t \\right)} + k_{ST} k_{TGS}}$"
      ],
      "text/plain": [
       "Eq(c_T(t), J*k_ST/(k_SGS*k_TGS + k_SGS*k_TT*c_3O(t) + k_ST*k_TGS))"
      ]
     },
     "metadata": {},
     "output_type": "display_data"
    },
    {
     "data": {
      "text/latex": [
       "$\\displaystyle \\operatorname{c_{1O}}{\\left(t \\right)} = \\frac{J k_{ST} k_{TT} \\operatorname{c_{3O}}{\\left(t \\right)}}{\\left(k_{1O3O} + k_{r} \\operatorname{c_{GS}}{\\left(t \\right)}\\right) \\left(k_{SGS} k_{TGS} + k_{SGS} k_{TT} \\operatorname{c_{3O}}{\\left(t \\right)} + k_{ST} k_{TGS}\\right)}$"
      ],
      "text/plain": [
       "Eq(c_1O(t), J*k_ST*k_TT*c_3O(t)/((k_1O3O + k_r*c_GS(t))*(k_SGS*k_TGS + k_SGS*k_TT*c_3O(t) + k_ST*k_TGS)))"
      ]
     },
     "metadata": {},
     "output_type": "display_data"
    }
   ],
   "source": [
    "# solve the system of equations, make steady state approximation for singlet, triplet and singlet oxygen concentrations\n",
    "solution = solve([eq0, Eq(eq1.rhs, 0), Eq(eq2.rhs, 0), Eq(eq3.rhs, 0)], [c_GS.diff(t), c_S, c_T, c_1O])\n",
    "\n",
    "for key, value in solution.items():\n",
    "    eq = Eq(key, value)\n",
    "    display(factor(simplify(eq)))#.subs(J, q0*(1 - 10**(-l*eps*c_GS)) / V))"
   ]
  },
  {
   "cell_type": "code",
   "execution_count": null,
   "id": "signal-penalty",
   "metadata": {},
   "outputs": [],
   "source": []
  }
 ],
 "metadata": {
  "kernelspec": {
   "display_name": "Python 3",
   "language": "python",
   "name": "python3"
  },
  "language_info": {
   "codemirror_mode": {
    "name": "ipython",
    "version": 3
   },
   "file_extension": ".py",
   "mimetype": "text/x-python",
   "name": "python",
   "nbconvert_exporter": "python",
   "pygments_lexer": "ipython3",
   "version": "3.8.7"
  }
 },
 "nbformat": 4,
 "nbformat_minor": 5
}
