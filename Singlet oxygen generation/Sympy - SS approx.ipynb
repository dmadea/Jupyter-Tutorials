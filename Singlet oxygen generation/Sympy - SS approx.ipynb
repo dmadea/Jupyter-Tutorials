{
 "cells": [
  {
   "cell_type": "code",
   "execution_count": 1,
   "id": "dirty-course",
   "metadata": {},
   "outputs": [],
   "source": [
    "from sympy import *\n",
    "from IPython.display import display, Math\n",
    "from kin_model import PhotoKineticSymbolicModel"
   ]
  },
  {
   "cell_type": "code",
   "execution_count": 2,
   "id": "final-romantic",
   "metadata": {},
   "outputs": [
    {
     "data": {
      "text/latex": [
       "$\\displaystyle \\begin{align}\\mathrm{BR} &\\xrightarrow{h\\nu} \\mathrm{^1BR} \\\\\\mathrm{^1BR} &\\xrightarrow{k_S} \\mathrm{BR} \\\\\\mathrm{^1BR} &\\xrightarrow{k_{isc}} \\mathrm{^3BR} \\\\\\mathrm{^3BR} &\\xrightarrow{k_T} \\mathrm{BR} \\\\\\mathrm{^3BR} + \\mathrm{^3O_2} &\\xrightarrow{k_{TT}} \\mathrm{^1O_2} + \\mathrm{BR} \\\\\\mathrm{^1O_2} &\\xrightarrow{k_d} \\mathrm{^3O_2} \\\\\\mathrm{BR} + \\mathrm{^1O_2} &\\xrightarrow{k_r}  \\\\\\end{align}$"
      ],
      "text/plain": [
       "<IPython.core.display.Math object>"
      ]
     },
     "metadata": {},
     "output_type": "display_data"
    },
    {
     "data": {
      "text/latex": [
       "$\\displaystyle - J + k_{S} \\operatorname{[{^1BR}]}{\\left(t \\right)} + k_{T} \\operatorname{[{^3BR}]}{\\left(t \\right)} + k_{TT} \\operatorname{[{^3BR}]}{\\left(t \\right)} \\operatorname{[{^3O_2}]}{\\left(t \\right)}$"
      ],
      "text/plain": [
       "-J + k_S*[{^1BR}](t) + k_T*[{^3BR}](t) + k_{TT}*[{^3BR}](t)*[{^3O_2}](t)"
      ]
     },
     "metadata": {},
     "output_type": "display_data"
    },
    {
     "data": {
      "text/latex": [
       "$\\displaystyle J$"
      ],
      "text/plain": [
       "J"
      ]
     },
     "metadata": {},
     "output_type": "display_data"
    },
    {
     "data": {
      "text/latex": [
       "$\\displaystyle k_{isc} \\operatorname{[{^1BR}]}{\\left(t \\right)}$"
      ],
      "text/plain": [
       "k_{isc}*[{^1BR}](t)"
      ]
     },
     "metadata": {},
     "output_type": "display_data"
    },
    {
     "data": {
      "text/latex": [
       "$\\displaystyle k_{d} \\operatorname{[{^1O_2}]}{\\left(t \\right)}$"
      ],
      "text/plain": [
       "k_d*[{^1O_2}](t)"
      ]
     },
     "metadata": {},
     "output_type": "display_data"
    },
    {
     "data": {
      "text/latex": [
       "$\\displaystyle k_{TT} \\operatorname{[{^3BR}]}{\\left(t \\right)} \\operatorname{[{^3O_2}]}{\\left(t \\right)}$"
      ],
      "text/plain": [
       "k_{TT}*[{^3BR}](t)*[{^3O_2}](t)"
      ]
     },
     "metadata": {},
     "output_type": "display_data"
    }
   ],
   "source": [
    "str_model = \"\"\"\n",
    "\n",
    "BR -hv-> ^1BR --> BR // k_S  # population of singlet state and decay to GS with rate k_S\n",
    "\n",
    "^1BR --> ^3BR --> BR  // k_{isc} ; k_T\n",
    "\n",
    "^3BR + ^3O_2 --> ^1O_2 + BR  // k_{TT}\n",
    "\n",
    "^1O_2 --> ^3O_2  // k_d\n",
    "\n",
    "BR + ^1O_2 --> // k_r\n",
    "\n",
    "\"\"\"\n",
    "\n",
    "model = PhotoKineticSymbolicModel.from_text(str_model)\n",
    "model.elem_reactions\n",
    "model.pprint_model()\n",
    "model.build_equation()"
   ]
  },
  {
   "cell_type": "code",
   "execution_count": null,
   "id": "acoustic-vault",
   "metadata": {},
   "outputs": [],
   "source": []
  },
  {
   "cell_type": "code",
   "execution_count": null,
   "id": "victorian-harmony",
   "metadata": {},
   "outputs": [],
   "source": []
  },
  {
   "cell_type": "code",
   "execution_count": 4,
   "id": "clean-population",
   "metadata": {},
   "outputs": [],
   "source": [
    "t, J = symbols('t J')   # J = 1/V * q0 * (1 - 10 ** (-l*eps*c_GS))\n",
    "\n",
    "c_GS = Function('[{BR}]')(t)  # ground state\n",
    "c_S = Function('[{^1BR}]')(t)  # singlet\n",
    "c_T = Function('[{^3BR}]')(t)  # triplet\n",
    "c_1O = Function('[{^1O_2}]')(t)  # singlet oxygen\n",
    "c_3O = Function('[{^3O_2}]')(t)  # triplet oxygen\n",
    "\n",
    "k_ST, k_SGS, k_TGS, k_TT = symbols('k_{^1BRBR} k_SGS k_TGS k_TT')\n",
    "k_1O3O, k_r, k_q = symbols('k_1O3O k_r k_q')\n",
    "\n",
    "q0, V, l, eps = symbols('q0 V l epsilon')"
   ]
  },
  {
   "cell_type": "code",
   "execution_count": 5,
   "id": "dominican-aspect",
   "metadata": {},
   "outputs": [
    {
     "data": {
      "text/latex": [
       "$\\displaystyle \\frac{d}{d t} \\operatorname{[{BR}]}{\\left(t \\right)} = - J + k_{SGS} \\operatorname{[{^1BR}]}{\\left(t \\right)} + k_{TGS} \\operatorname{[{^3BR}]}{\\left(t \\right)} - k_{r} \\operatorname{[{BR}]}{\\left(t \\right)} \\operatorname{[{^1O_2}]}{\\left(t \\right)}$"
      ],
      "text/plain": [
       "Eq(Derivative([{BR}](t), t), -J + k_SGS*[{^1BR}](t) + k_TGS*[{^3BR}](t) - k_r*[{BR}](t)*[{^1O_2}](t))"
      ]
     },
     "metadata": {},
     "output_type": "display_data"
    },
    {
     "data": {
      "text/latex": [
       "$\\displaystyle \\frac{d}{d t} \\operatorname{[{^1BR}]}{\\left(t \\right)} = J - k_{SGS} \\operatorname{[{^1BR}]}{\\left(t \\right)} + k_{TT} \\operatorname{[{^3BR}]}{\\left(t \\right)} \\operatorname{[{^3O_2}]}{\\left(t \\right)} - k_{^1BRBR} \\operatorname{[{^1BR}]}{\\left(t \\right)}$"
      ],
      "text/plain": [
       "Eq(Derivative([{^1BR}](t), t), J - k_SGS*[{^1BR}](t) + k_TT*[{^3BR}](t)*[{^3O_2}](t) - k_{^1BRBR}*[{^1BR}](t))"
      ]
     },
     "metadata": {},
     "output_type": "display_data"
    },
    {
     "data": {
      "text/latex": [
       "$\\displaystyle \\frac{d}{d t} \\operatorname{[{^3BR}]}{\\left(t \\right)} = - k_{TGS} \\operatorname{[{^3BR}]}{\\left(t \\right)} - k_{TT} \\operatorname{[{^3BR}]}{\\left(t \\right)} \\operatorname{[{^3O_2}]}{\\left(t \\right)} + k_{^1BRBR} \\operatorname{[{^1BR}]}{\\left(t \\right)}$"
      ],
      "text/plain": [
       "Eq(Derivative([{^3BR}](t), t), -k_TGS*[{^3BR}](t) - k_TT*[{^3BR}](t)*[{^3O_2}](t) + k_{^1BRBR}*[{^1BR}](t))"
      ]
     },
     "metadata": {},
     "output_type": "display_data"
    },
    {
     "data": {
      "text/latex": [
       "$\\displaystyle \\frac{d}{d t} \\operatorname{[{^1O_2}]}{\\left(t \\right)} = - k_{1O3O} \\operatorname{[{^1O_2}]}{\\left(t \\right)} + k_{TT} \\operatorname{[{^3BR}]}{\\left(t \\right)} \\operatorname{[{^3O_2}]}{\\left(t \\right)} - k_{r} \\operatorname{[{BR}]}{\\left(t \\right)} \\operatorname{[{^1O_2}]}{\\left(t \\right)}$"
      ],
      "text/plain": [
       "Eq(Derivative([{^1O_2}](t), t), -k_1O3O*[{^1O_2}](t) + k_TT*[{^3BR}](t)*[{^3O_2}](t) - k_r*[{BR}](t)*[{^1O_2}](t))"
      ]
     },
     "metadata": {},
     "output_type": "display_data"
    }
   ],
   "source": [
    "# differential equations\n",
    "eq0 = Eq(c_GS.diff(t), -J + k_SGS*c_S + k_TGS*c_T - k_r * c_GS*c_1O)\n",
    "eq1 = Eq(c_S.diff(t), +J -k_ST*c_S - k_SGS*c_S + k_TT * c_3O*c_T)\n",
    "eq2 = Eq(c_T.diff(t), +k_ST*c_S -k_TGS*c_T - k_TT * c_3O*c_T)\n",
    "eq3 = Eq(c_1O.diff(t), +k_TT * c_3O*c_T -k_1O3O*c_1O - k_r * c_GS*c_1O)\n",
    "\n",
    "display(eq0)\n",
    "display(eq1)\n",
    "display(eq2)\n",
    "display(eq3)"
   ]
  },
  {
   "cell_type": "code",
   "execution_count": 16,
   "id": "characteristic-packing",
   "metadata": {},
   "outputs": [
    {
     "data": {
      "text/latex": [
       "$\\displaystyle - k_{1O3O} \\operatorname{[{^1O_2}]}{\\left(t \\right)} + k_{TT} \\operatorname{[{^3BR}]}{\\left(t \\right)} \\operatorname{[{^3O_2}]}{\\left(t \\right)} - k_{r} \\operatorname{[{BR}]}{\\left(t \\right)} \\operatorname{[{^1O_2}]}{\\left(t \\right)} - 5$"
      ],
      "text/plain": [
       "-k_1O3O*[{^1O_2}](t) + k_TT*[{^3BR}](t)*[{^3O_2}](t) - k_r*[{BR}](t)*[{^1O_2}](t) - 5"
      ]
     },
     "execution_count": 16,
     "metadata": {},
     "output_type": "execute_result"
    }
   ],
   "source": [
    "expr = eq3.rhs\n",
    "expr -=  5\n",
    "expr"
   ]
  },
  {
   "cell_type": "code",
   "execution_count": 32,
   "id": "exterior-botswana",
   "metadata": {},
   "outputs": [
    {
     "data": {
      "text/latex": [
       "$\\displaystyle \\frac{d}{d t} \\operatorname{[{BR}]}{\\left(t \\right)} = - \\frac{J k_{TT} k_{r} k_{^1BRBR} \\operatorname{[{BR}]}{\\left(t \\right)} \\operatorname{[{^3O_2}]}{\\left(t \\right)}}{\\left(k_{1O3O} + k_{r} \\operatorname{[{BR}]}{\\left(t \\right)}\\right) \\left(k_{SGS} k_{TGS} + k_{SGS} k_{TT} \\operatorname{[{^3O_2}]}{\\left(t \\right)} + k_{TGS} k_{^1BRBR}\\right)}$"
      ],
      "text/plain": [
       "Eq(Derivative([{BR}](t), t), -J*k_TT*k_r*k_{^1BRBR}*[{BR}](t)*[{^3O_2}](t)/((k_1O3O + k_r*[{BR}](t))*(k_SGS*k_TGS + k_SGS*k_TT*[{^3O_2}](t) + k_TGS*k_{^1BRBR})))"
      ]
     },
     "metadata": {},
     "output_type": "display_data"
    },
    {
     "data": {
      "text/latex": [
       "$\\displaystyle \\operatorname{[{^1BR}]}{\\left(t \\right)} = \\frac{J \\left(k_{TGS} + k_{TT} \\operatorname{[{^3O_2}]}{\\left(t \\right)}\\right)}{k_{SGS} k_{TGS} + k_{SGS} k_{TT} \\operatorname{[{^3O_2}]}{\\left(t \\right)} + k_{TGS} k_{^1BRBR}}$"
      ],
      "text/plain": [
       "Eq([{^1BR}](t), J*(k_TGS + k_TT*[{^3O_2}](t))/(k_SGS*k_TGS + k_SGS*k_TT*[{^3O_2}](t) + k_TGS*k_{^1BRBR}))"
      ]
     },
     "metadata": {},
     "output_type": "display_data"
    },
    {
     "data": {
      "text/latex": [
       "$\\displaystyle \\operatorname{[{^3BR}]}{\\left(t \\right)} = \\frac{J k_{^1BRBR}}{k_{SGS} k_{TGS} + k_{SGS} k_{TT} \\operatorname{[{^3O_2}]}{\\left(t \\right)} + k_{TGS} k_{^1BRBR}}$"
      ],
      "text/plain": [
       "Eq([{^3BR}](t), J*k_{^1BRBR}/(k_SGS*k_TGS + k_SGS*k_TT*[{^3O_2}](t) + k_TGS*k_{^1BRBR}))"
      ]
     },
     "metadata": {},
     "output_type": "display_data"
    },
    {
     "data": {
      "text/latex": [
       "$\\displaystyle \\operatorname{[{^1O_2}]}{\\left(t \\right)} = \\frac{J k_{TT} k_{^1BRBR} \\operatorname{[{^3O_2}]}{\\left(t \\right)}}{\\left(k_{1O3O} + k_{r} \\operatorname{[{BR}]}{\\left(t \\right)}\\right) \\left(k_{SGS} k_{TGS} + k_{SGS} k_{TT} \\operatorname{[{^3O_2}]}{\\left(t \\right)} + k_{TGS} k_{^1BRBR}\\right)}$"
      ],
      "text/plain": [
       "Eq([{^1O_2}](t), J*k_TT*k_{^1BRBR}*[{^3O_2}](t)/((k_1O3O + k_r*[{BR}](t))*(k_SGS*k_TGS + k_SGS*k_TT*[{^3O_2}](t) + k_TGS*k_{^1BRBR})))"
      ]
     },
     "metadata": {},
     "output_type": "display_data"
    }
   ],
   "source": [
    "# solve the system of equations, make steady state approximation for singlet, triplet and singlet oxygen concentrations\n",
    "solution = solve([eq0, Eq(eq1.rhs, 0), Eq(eq2.rhs, 0), Eq(eq3.rhs, 0)], [c_GS.diff(t), c_S, c_T, c_1O])\n",
    "\n",
    "for key, value in solution.items():\n",
    "    eq = Eq(key, value)\n",
    "    display(factor(simplify(eq)))#.subs(J, q0*(1 - 10**(-l*eps*c_GS)) / V))"
   ]
  },
  {
   "cell_type": "code",
   "execution_count": 16,
   "id": "arbitrary-monster",
   "metadata": {},
   "outputs": [
    {
     "data": {
      "text/latex": [
       "$\\displaystyle [{^1O_2}]$"
      ],
      "text/plain": [
       "[{^1O_2}]"
      ]
     },
     "execution_count": 16,
     "metadata": {},
     "output_type": "execute_result"
    }
   ],
   "source": [
    "test = symbols('')\n",
    "\n",
    "test"
   ]
  },
  {
   "cell_type": "code",
   "execution_count": 7,
   "id": "multiple-subsection",
   "metadata": {},
   "outputs": [
    {
     "data": {
      "text/latex": [
       "$\\displaystyle BR \\xrightarrow{h\\nu}  A $"
      ],
      "text/plain": [
       "<IPython.core.display.Math object>"
      ]
     },
     "metadata": {},
     "output_type": "display_data"
    },
    {
     "data": {
      "text/latex": [
       "$\\displaystyle \\begin{align} \\mathrm{x+x2} &= 1 \\\\ 1 &= x+5  \\end{align}$"
      ],
      "text/plain": [
       "<IPython.core.display.Math object>"
      ]
     },
     "metadata": {},
     "output_type": "display_data"
    },
    {
     "data": {
      "text/latex": [
       "$\\displaystyle \\begin{align}\\mathrm{BR}&\\xrightarrow{h\\nu}\\mathrm{^1BR}\\\\\\mathrm{^1BR}&\\xrightarrow{k_S}\\mathrm{BR}\\end{align}$"
      ],
      "text/plain": [
       "<IPython.core.display.Math object>"
      ]
     },
     "metadata": {},
     "output_type": "display_data"
    },
    {
     "data": {
      "text/latex": [
       "$\\displaystyle \\being{align}\\mathrm{BR}&\\xrightarrow{h\\nu}\\mathrm{^1BR}\\\\\\mathrm{^1BR}&\\xrightarrow{k_S}\\mathrm{BR}\\end{align}$"
      ],
      "text/plain": [
       "<IPython.core.display.Math object>"
      ]
     },
     "metadata": {},
     "output_type": "display_data"
    }
   ],
   "source": [
    "\n",
    "model = \"\"\"\n",
    "\n",
    "BR -hv-> ^1BR --> BR // k_S  # population of singlet state and decay to GS with rate k_S\n",
    "\n",
    "^1BR --> ^3BR --> BR  // k_{isc}; k_T\n",
    "\n",
    "^3BR + ^3O_2 --> ^1O_2 + BR  // k_{TT}\n",
    "\n",
    "^1O_2 --> ^3O_2  // k_d\n",
    "\n",
    "BR + ^1O_2 --> // k_r\n",
    "\n",
    "\"\"\"\n",
    "\n",
    "\n",
    "model = \"\"\" A --> B --> C\"\"\"\n",
    "\n",
    "display(Math(r'BR \\xrightarrow{h\\nu}  A '))\n",
    "\n",
    "display(Math(r'\\begin{align} \\mathrm{x+x2} &= 1 \\\\ 1 &= x+5  \\end{align}'))\n",
    "\n",
    "\n",
    "\n",
    "display(Math(r'\\begin{align}\\mathrm{BR}&\\xrightarrow{h\\nu}\\mathrm{^1BR}\\\\\\mathrm{^1BR}&\\xrightarrow{k_S}\\mathrm{BR}\\end{align}'))\n",
    "\n"
   ]
  },
  {
   "cell_type": "markdown",
   "id": "driven-helping",
   "metadata": {},
   "source": [
    "\n",
    "\n",
    "$$BR \\xrightarrow{h\\nu}  A $$\n",
    "$$\\mathrm{BR} + {^1\\mathrm{O}_2} \\xrightarrow{k_r}  $$\n",
    "\n",
    "$$\\mathrm{^1BR} \\xrightarrow{ k_{isc}} \\mathrm{^3BR} \\\\\n",
    "\\mathrm{^3BR} \\xrightarrow{ k_T} \\mathrm{BR} \\\\\n",
    "\\mathrm{^3BR} + \\mathrm{^3O_2} \\xrightarrow{ k_{TT}} \\mathrm{^1O_2} + \\mathrm{BR} \\\\\n",
    "\\mathrm{^1O_2} \\xrightarrow{ k_d} \\mathrm{^3O_2} \\\\\\mathrm{BR} + \\mathrm{^1O_2} &\\xrightarrow{ k_r}$$\n",
    "\n",
    "\n",
    "$$\\begin{align}\\mathrm{BR}&\\xrightarrow{h\\nu}\\mathrm{^1BR}\\\\\\mathrm{^1BR}&\\xrightarrow{k_S}\\mathrm{BR}\\\\\\end{align}}$$"
   ]
  },
  {
   "cell_type": "code",
   "execution_count": 97,
   "id": "monetary-plaza",
   "metadata": {},
   "outputs": [
    {
     "data": {
      "text/plain": [
       "[(' A ', '-->'), (' B ', '-->'), (' C', '')]"
      ]
     },
     "execution_count": 97,
     "metadata": {},
     "output_type": "execute_result"
    }
   ],
   "source": [
    "import re\n",
    "\n",
    "\n",
    "def split_delimiters(text: str, delimiters):\n",
    "    \"\"\"\n",
    "    Splits the text with denoted delimiters and returns the list of tuples in which\n",
    "    first entry is the splitted text and the 2nd is the delimiter.\n",
    "    \"\"\"\n",
    "\n",
    "    if not text:\n",
    "        return [('', delimiters[0])]\n",
    "\n",
    "    pattern = '|'.join(map(re.escape, delimiters))\n",
    "\n",
    "    # it returns the list in which the every second entry is the original delimiter used\n",
    "    sp = re.split(f'({pattern})', text)\n",
    "\n",
    "    entries = sp[::2]\n",
    "    delimiters = sp[1::2]\n",
    "    \n",
    "    if len(delimiters) < len(entries):\n",
    "        delimiters.append('')\n",
    "\n",
    "    return list(zip(entries, delimiters))\n",
    "\n",
    "\n",
    "\n",
    "# re.split('')\n",
    "\n",
    "split_delimiters(model, ['-hv->', '-->'])\n",
    "# a.split(',')"
   ]
  },
  {
   "cell_type": "code",
   "execution_count": 95,
   "id": "mathematical-oracle",
   "metadata": {},
   "outputs": [
    {
     "data": {
      "text/plain": [
       "[' A ', '-->', ' B ', '-->', ' C']"
      ]
     },
     "execution_count": 95,
     "metadata": {},
     "output_type": "execute_result"
    }
   ],
   "source": [
    "re.split('(-->|-hv->)', model)  "
   ]
  },
  {
   "cell_type": "code",
   "execution_count": 70,
   "id": "powered-projection",
   "metadata": {},
   "outputs": [],
   "source": [
    "a, *s = 'aspodasd'.split(',')"
   ]
  },
  {
   "cell_type": "code",
   "execution_count": 82,
   "id": "dried-commitment",
   "metadata": {},
   "outputs": [
    {
     "data": {
      "text/plain": [
       "'45'"
      ]
     },
     "execution_count": 82,
     "metadata": {},
     "output_type": "execute_result"
    }
   ],
   "source": [
    "pattern = re.compile(r\"^(\\d+).+\")\n",
    "\n",
    "\n",
    "m = re.match(pattern, '45asdd+45')\n",
    "\n",
    "m.group(1)\n"
   ]
  },
  {
   "cell_type": "code",
   "execution_count": null,
   "id": "dangerous-queen",
   "metadata": {},
   "outputs": [],
   "source": []
  }
 ],
 "metadata": {
  "kernelspec": {
   "display_name": "Python 3",
   "language": "python",
   "name": "python3"
  },
  "language_info": {
   "codemirror_mode": {
    "name": "ipython",
    "version": 3
   },
   "file_extension": ".py",
   "mimetype": "text/x-python",
   "name": "python",
   "nbconvert_exporter": "python",
   "pygments_lexer": "ipython3",
   "version": "3.8.7"
  }
 },
 "nbformat": 4,
 "nbformat_minor": 5
}
